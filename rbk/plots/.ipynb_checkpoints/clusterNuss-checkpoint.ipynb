{
 "metadata": {
  "name": ""
 },
 "nbformat": 3,
 "nbformat_minor": 0,
 "worksheets": [
  {
   "cells": [
    {
     "cell_type": "code",
     "collapsed": false,
     "input": [
      "from IPython import parallel\n",
      "c = parallel.Client()\n",
      "view = c.load_balanced_view()"
     ],
     "language": "python",
     "metadata": {},
     "outputs": [],
     "prompt_number": 1
    },
    {
     "cell_type": "code",
     "collapsed": false,
     "input": [
      "%%px --local\n",
      "\n",
      "import pandas as pd\n",
      "import pickle\n",
      "\n",
      "import numpy as np\n",
      "import matplotlib\n",
      "from matplotlib import pyplot as plt\n",
      "import scipy as sp\n",
      "from scipy.optimize import curve_fit\n",
      "from matplotlib import gridspec\n",
      "#%matplotlib inline\n",
      "\n",
      "def lin_func(x, m, n):\n",
      "    return n+m*x\n",
      "\n",
      "\n",
      "#plt.rcParams.update({'axes.titlesize': 'medium'})\n",
      "#plt.rcParams.update({'axes.labelsize': 'small'})\n",
      "class boundary_layer(object):\n",
      "    \n",
      "    plt.rcParams['font.size']= 15\n",
      "\n",
      "    fit_color = 'black'\n",
      "    data_color = 'red'\n",
      "    data_color_sec = 'blue'\n",
      "    fit_width = 1.5\n",
      "    \n",
      "    \n",
      "    def check_empty(self, arr):\n",
      "        empty_list = []\n",
      "        for i, e in enumerate(arr):\n",
      "            if e != '' and e != '\\n':\n",
      "                empty_list.append(i)\n",
      "        return empty_list\n",
      "    \n",
      "    def read_from_file(self, filename, row = 'all', col='all', separator = '\\t', comment='#'):\n",
      "        f_in = open(filename)\n",
      "        table = []\n",
      "        lines = f_in.readlines()\n",
      "        lines = np.array(lines)\n",
      "        rows = None\n",
      "        no_col = 0 \n",
      "        if row == 'all':\n",
      "            rows = range(len(lines))\n",
      "        else:\n",
      "            rows = row\n",
      "        for line in lines[rows]:\n",
      "            if line[0]!='#':\n",
      "                l=np.array(line.split(separator))\n",
      "                empty_list = self.check_empty(l)\n",
      "                l = l[empty_list]\n",
      "                if len(l)>no_col:\n",
      "                    no_col = len(l)\n",
      "                if col == 'all':\n",
      "                    l = np.array(l).astype(float)\n",
      "                else:\n",
      "                    l_new=[]\n",
      "                    for i in col:\n",
      "                        l_new.append(l[i])\n",
      "                    l = np.array(l_new).astype(float)\n",
      "                table.append(l)\n",
      "        #Fill with zeros at the end\n",
      "        for i in range(len(table)):\n",
      "            table[i] = list(table[i])\n",
      "            while len(table[i])<no_col:\n",
      "                table[i].append('0')\n",
      "        table = np.array(table).astype(float)\n",
      "        return table\n",
      "    \n",
      "\n",
      "    \n",
      "    def compute_boundary(self, filename):\n",
      "        name, Ra = filename.split(';')[0],filename.split(';')[1]\n",
      "        table = self.read_from_file(name, comment='%')\n",
      "        \n",
      "        lims_dic = {\n",
      "                    '/home/winz3r/Documents/Protokolle/rbk/rbk/Vitali-Phillip/Comsol/mittel_tprof_Ra_1e3.txt':[0,100,150,-1],\n",
      "                    '/home/winz3r/Documents/Protokolle/rbk/rbk/Vitali-Phillip/Comsol/mittel_tprof_Ra_1e4.txt':[0,40,100,160],\n",
      "                    '/home/winz3r/Documents/Protokolle/rbk/rbk/Vitali-Phillip/Comsol/mittel_tprof_Ra_1e5.txt':[0,20,100,170],\n",
      "                    '/home/winz3r/Documents/Protokolle/rbk/rbk/Vitali-Phillip/Comsol/mittel_tprof_Ra_1e6.txt':[0,11,100,170],\n",
      "                    '/home/winz3r/Documents/Protokolle/rbk/rbk/Vitali-Phillip/Comsol/mittel_tprof_Ra_1e7.txt':[0,6,100,170]\n",
      "                    }\n",
      "        \n",
      "        begin = lims_dic[name][0]\n",
      "        end = lims_dic[name][1]\n",
      "        begin1 = lims_dic[name][2]\n",
      "        end1 = lims_dic[name][3]\n",
      "        prm0, co0 = curve_fit(lin_func, table[begin:end,0],table[begin:end,1])\n",
      "        prm1, co1 = curve_fit(lin_func, table[begin1:end1,0],table[begin1:end1,1])\n",
      "        \n",
      "        x_schnitt = (prm0[1]-prm1[1])/(-prm0[0]+prm1[0])\n",
      "        sigma_schnitt = np.sqrt((co0[1,1]/(-prm0[0]+prm1[0]))**2+ (co1[1,1]/(-prm0[0]+prm1[0]))**2+(((prm0[1]-prm1[1])*co0[0,0]/(-prm0[0]+prm1[0])**2))**2)\n",
      "        y_schnitt = lin_func(x_schnitt, prm0[0], prm0[1])\n",
      "        sigma_y = np.sqrt((x_schnitt*co0[0,0])**2+(prm0[0]*sigma_schnitt)**2+co0[1,1]**2)\n",
      "        \n",
      "        output = [x_schnitt, sigma_schnitt, y_schnitt, sigma_y]\n",
      "        return output\n",
      "\n",
      "def COMPUTE(x):\n",
      "    c = boundary_layer()\n",
      "    return c.compute_boundary(x)\n",
      "\n",
      "##############################################################################################\n",
      "\n",
      "    "
     ],
     "language": "python",
     "metadata": {},
     "outputs": [],
     "prompt_number": 23
    },
    {
     "cell_type": "code",
     "collapsed": false,
     "input": [
      "sim_names = [\n",
      "u'/home/winz3r/Documents/Protokolle/rbk/rbk/Vitali-Phillip/Comsol/mittel_tprof_Ra_1e3.txt;1e3',\n",
      "u'/home/winz3r/Documents/Protokolle/rbk/rbk/Vitali-Phillip/Comsol/mittel_tprof_Ra_1e4.txt;1e4',\n",
      "u'/home/winz3r/Documents/Protokolle/rbk/rbk/Vitali-Phillip/Comsol/mittel_tprof_Ra_1e5.txt;1e5',\n",
      "u'/home/winz3r/Documents/Protokolle/rbk/rbk/Vitali-Phillip/Comsol/mittel_tprof_Ra_1e6.txt;1e6',\n",
      "u'/home/winz3r/Documents/Protokolle/rbk/rbk/Vitali-Phillip/Comsol/mittel_tprof_Ra_1e7.txt;1e7'\n",
      "]\n",
      "\n",
      "boundary_points = view.map_sync(COMPUTE, sim_names)\n",
      "pickle.dump(boundary_points, open('output.pickle', 'w'))"
     ],
     "language": "python",
     "metadata": {},
     "outputs": [],
     "prompt_number": 24
    },
    {
     "cell_type": "code",
     "collapsed": false,
     "input": [
      "print boundary_points"
     ],
     "language": "python",
     "metadata": {},
     "outputs": [
      {
       "output_type": "stream",
       "stream": "stdout",
       "text": [
        "[[0.20356993265228274, 4.7957428635735148e-07, 0.79645403991034081, 4.7951703000309556e-07], [0.20676746647025704, 0.00034285950630957954, 0.560895485831582, 0.0007810033459941918], [0.19442669884643182, 0.0011087047467150295, 0.44625604733527541, 0.0037091243892815916], [0.14517743827636734, 0.0034442323562356488, 0.4824441962798256, 0.010782817257445964], [0.076471756168456528, 0.0086911988390867452, 0.49494218218158276, 0.050200336159818559]]\n"
       ]
      }
     ],
     "prompt_number": 8
    },
    {
     "cell_type": "code",
     "collapsed": false,
     "input": [
      "print np.array(boundary_points)"
     ],
     "language": "python",
     "metadata": {},
     "outputs": [
      {
       "output_type": "stream",
       "stream": "stdout",
       "text": [
        "[[  2.03569933e-01   4.79574286e-07   7.96454040e-01   4.79517030e-07]\n",
        " [  2.06767466e-01   3.42859506e-04   5.60895486e-01   7.81003346e-04]\n",
        " [  1.94426699e-01   1.10870475e-03   4.46256047e-01   3.70912439e-03]\n",
        " [  1.45177438e-01   3.44423236e-03   4.82444196e-01   1.07828173e-02]\n",
        " [  7.64717562e-02   8.69119884e-03   4.94942182e-01   5.02003362e-02]]\n"
       ]
      }
     ],
     "prompt_number": 9
    },
    {
     "cell_type": "code",
     "collapsed": false,
     "input": [],
     "language": "python",
     "metadata": {},
     "outputs": [],
     "prompt_number": 5
    }
   ],
   "metadata": {}
  }
 ]
}